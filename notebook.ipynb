{
  "cells": [
    {
      "cell_type": "markdown",
      "metadata": {
        "id": "H9wADwK78DCz"
      },
      "source": [
        "# Proyek Analisis Data: E-commerce-public-dataset\n",
        "- **Nama:** Anak Agung Ayu Citra Maharani\n",
        "- **Email:** agungcitra2717@gmail.com\n",
        "- **ID Dicoding:** anak_agung876"
      ]
    },
    {
      "cell_type": "markdown",
      "metadata": {
        "id": "eE0raob58DC0"
      },
      "source": [
        "## Menentukan Pertanyaan Bisnis"
      ]
    },
    {
      "cell_type": "markdown",
      "metadata": {
        "id": "GmQeQ5YF8DC0"
      },
      "source": [
        "- Apa saja kategori produk yang paling laku dan paling tidak laku?\n",
        "- Bagaimana distribusi pesanan di berbagai negara bagian (state)?\n",
        "- Bagaimana pengaruh durasi pengiriman terhadap peringkat dari pelanggan (score_review)?\n",
        "- Kapan terakhir pelanggan melakukan transaksi? (RFM ANALYSIS)\n",
        "- Seberapa sering seorang pelanggan melakukan pembelian dalam beberapa bulan terakhir? (RFM ANALYSIS)\n",
        "- Berapa banyak uang yang dihabiskan pelanggan dalam beberapa bulan terakhir? (RFM ANALYSIS)\n",
        "- Bagaimana pelanggan dapat disegmentasikan berdasarkan kebiasaan pembelian mereka? (RFM ANALYSIS)"
      ]
    },
    {
      "cell_type": "markdown",
      "metadata": {
        "id": "H-z4QGlO8DC1"
      },
      "source": [
        "## Import Semua Packages/Library yang Digunakan"
      ]
    },
    {
      "cell_type": "code",
      "execution_count": 3,
      "metadata": {
        "id": "FVYwaObI8DC1"
      },
      "outputs": [],
      "source": [
        "import numpy as np\n",
        "import pandas as pd\n",
        "import matplotlib.pyplot as plt\n",
        "import seaborn as sns\n",
        "import os"
      ]
    },
    {
      "cell_type": "markdown",
      "metadata": {
        "id": "h_Sh51Xy8DC1"
      },
      "source": [
        "## Data Wrangling"
      ]
    },
    {
      "cell_type": "markdown",
      "metadata": {
        "id": "sXU2GBYu8DC1"
      },
      "source": [
        "### Gathering Data"
      ]
    },
    {
      "cell_type": "code",
      "execution_count": 3,
      "metadata": {
        "id": "zjCBk1BI8DC1"
      },
      "outputs": [],
      "source": [
        "customers_df = pd.read_csv(\"data/customers_dataset.csv\")\n",
        "geolocation_df = pd.read_csv(\"data/geolocation_dataset.csv\")\n",
        "order_items_df = pd.read_csv(\"data/order_items_dataset.csv\")\n",
        "order_payments_df = pd.read_csv(\"data/order_payments_dataset.csv\")\n",
        "order_reviews_df = pd.read_csv(\"data/order_reviews_dataset.csv\")\n",
        "orders_df = pd.read_csv(\"data/orders_dataset.csv\")\n",
        "product_category_name_df = pd.read_csv(\"data/product_category_name_translation.csv\")\n",
        "products_df = pd.read_csv(\"data/products_dataset.csv\")\n",
        "sellers_df = pd.read_csv(\"data/sellers_dataset.csv\")"
      ]
    },
    {
      "cell_type": "code",
      "execution_count": null,
      "metadata": {},
      "outputs": [],
      "source": [
        "print('\\n', customers_df.head())\n",
        "print('\\n', geolocation_df.head())\n",
        "print('\\n', order_items_df.head())\n",
        "print('\\n', order_payments_df.head())\n",
        "print('\\n', order_reviews_df.head())\n",
        "print('\\n', orders_df.head())\n",
        "print('\\n', product_category_name_df.head())\n",
        "print('\\n', products_df.head())\n",
        "print('\\n', sellers_df.head())"
      ]
    },
    {
      "cell_type": "markdown",
      "metadata": {
        "id": "FHSiqaZp8DC1"
      },
      "source": [
        "### Assessing Data"
      ]
    },
    {
      "cell_type": "markdown",
      "metadata": {},
      "source": [
        "#### Check for basic information each dataframe"
      ]
    },
    {
      "cell_type": "code",
      "execution_count": null,
      "metadata": {},
      "outputs": [],
      "source": [
        "print('\\n', customers_df.info())\n",
        "print('\\n', geolocation_df.info())\n",
        "print('\\n', order_items_df.info())\n",
        "print('\\n', order_payments_df.info())\n",
        "print('\\n', order_reviews_df.info())\n",
        "print('\\n', orders_df.info())\n",
        "print('\\n', product_category_name_df.info())\n",
        "print('\\n', products_df.info())\n",
        "print('\\n', sellers_df.info())"
      ]
    },
    {
      "cell_type": "markdown",
      "metadata": {},
      "source": [
        "#### Check for Nan value in column"
      ]
    },
    {
      "cell_type": "code",
      "execution_count": null,
      "metadata": {},
      "outputs": [],
      "source": [
        "print(\"\\n\",customers_df.isna().sum())\n",
        "print(\"\\n\",geolocation_df.isna().sum())\n",
        "print(\"\\n\",order_items_df.isna().sum())\n",
        "print(\"\\n\",order_payments_df.isna().sum())\n",
        "print(\"\\n\",order_reviews_df.isna().sum())\n",
        "print(\"\\n\",orders_df.isna().sum())\n",
        "print(\"\\n\",product_category_name_df.isna().sum())\n",
        "print(\"\\n\",products_df.isna().sum())\n",
        "print(\"\\n\",sellers_df.isna().sum())"
      ]
    },
    {
      "cell_type": "markdown",
      "metadata": {},
      "source": [
        "#### Check for duplicate data in dataframe"
      ]
    },
    {
      "cell_type": "code",
      "execution_count": null,
      "metadata": {},
      "outputs": [],
      "source": [
        "print(\"Jumlah duplikasi customers_df\\t\\t\\t: \", customers_df.duplicated().sum())\n",
        "print(\"Jumlah duplikasi geolocation_df\\t\\t\\t: \", geolocation_df.duplicated().sum())\n",
        "print(\"Jumlah duplikasi order_items_df\\t\\t\\t: \", order_items_df.duplicated().sum())\n",
        "print(\"Jumlah duplikasi order_payments_df\\t\\t: \", order_payments_df.duplicated().sum())\n",
        "print(\"Jumlah duplikasi order_reviews_df\\t\\t: \", order_reviews_df.duplicated().sum())\n",
        "print(\"Jumlah duplikasi orders_df\\t\\t\\t: \", orders_df.duplicated().sum())\n",
        "print(\"Jumlah duplikasi product_category_name_df\\t: \", product_category_name_df.duplicated().sum())\n",
        "print(\"Jumlah duplikasi products_df\\t\\t\\t: \", products_df.duplicated().sum())\n",
        "print(\"Jumlah duplikasi sellers_df\\t\\t\\t: \", sellers_df.duplicated().sum())"
      ]
    },
    {
      "cell_type": "markdown",
      "metadata": {},
      "source": [
        "#### Check detail in each dataframe's feature"
      ]
    },
    {
      "cell_type": "code",
      "execution_count": null,
      "metadata": {},
      "outputs": [],
      "source": [
        "print(\"\\n\",customers_df.describe())\n",
        "print(\"\\n\",geolocation_df.describe())\n",
        "print(\"\\n\",order_items_df.describe())\n",
        "print(\"\\n\",order_payments_df.describe())\n",
        "print(\"\\n\",order_reviews_df.describe())\n",
        "print(\"\\n\",orders_df.describe())\n",
        "print(\"\\n\",product_category_name_df.describe())\n",
        "print(\"\\n\",products_df.describe())\n",
        "print(\"\\n\",sellers_df.describe())"
      ]
    },
    {
      "cell_type": "markdown",
      "metadata": {},
      "source": [
        "**Insight:**\n",
        "\n",
        "Dari proses penilaian terhadap masing - masing dataframe di atas ditemukan beberapa masalah yaitu\n",
        "Missing Value\n",
        "- Terdapat Nan value di 2 kolom order_review_df. Hal ini terjadi karena saat proses review, terdapat beberapa pelanggan yang tidak melengkapi keseluruhan inputan review (non-required)\n",
        "- Terdapat Nan value di 3 kolom orders_df. Nan value dalam kolom tersebut disebabkan karena dataframe ini merupakan dataframe yang mencatat proses order hingga sampai ke pelanggan. Namun karena beberapa order masih belum sampai ke pelanggan atau masih diproses menyebabkan kolom tersebut Nan.\n",
        "- Terakhir terdapat Nan value di keseluruhan kolom yang ada dalam products_df\n",
        "\n",
        "Duplicated rows\n",
        "- Terdapat duplikasi data dalam geolocation_df sebanyak 261.831 rows"
      ]
    },
    {
      "cell_type": "markdown",
      "metadata": {
        "id": "EhN5R4hr8DC1"
      },
      "source": [
        "### Cleaning Data"
      ]
    },
    {
      "cell_type": "markdown",
      "metadata": {},
      "source": [
        "#### Geolocation Dataframe"
      ]
    },
    {
      "cell_type": "code",
      "execution_count": null,
      "metadata": {},
      "outputs": [],
      "source": [
        "print(\"Jumlah duplikasi geolocation_df :\", geolocation_df.duplicated().sum())"
      ]
    },
    {
      "cell_type": "code",
      "execution_count": 10,
      "metadata": {
        "id": "jVnYpprE9Evz"
      },
      "outputs": [],
      "source": [
        "geolocation_df.drop_duplicates(inplace=True)"
      ]
    },
    {
      "cell_type": "code",
      "execution_count": null,
      "metadata": {},
      "outputs": [],
      "source": [
        "print(\"Jumlah duplikasi geolocation_df :\", geolocation_df.duplicated().sum())"
      ]
    },
    {
      "cell_type": "markdown",
      "metadata": {},
      "source": [
        "#### Order reviews dataframe"
      ]
    },
    {
      "cell_type": "code",
      "execution_count": null,
      "metadata": {},
      "outputs": [],
      "source": [
        "print(\"\\n\",order_reviews_df.isna().sum())"
      ]
    },
    {
      "cell_type": "code",
      "execution_count": 13,
      "metadata": {},
      "outputs": [],
      "source": [
        "order_reviews_df.fillna(value=\"-\", inplace=True)"
      ]
    },
    {
      "cell_type": "code",
      "execution_count": null,
      "metadata": {},
      "outputs": [],
      "source": [
        "order_reviews_df.isna().sum()"
      ]
    },
    {
      "cell_type": "code",
      "execution_count": 15,
      "metadata": {},
      "outputs": [],
      "source": [
        "# change to datetime type\n",
        "order_datetime = [\"review_creation_date\", \"review_answer_timestamp\"]\n",
        "\n",
        "for column in order_datetime:\n",
        "    order_reviews_df[column] = pd.to_datetime(order_reviews_df[column])"
      ]
    },
    {
      "cell_type": "code",
      "execution_count": null,
      "metadata": {},
      "outputs": [],
      "source": [
        "order_reviews_df.info()"
      ]
    },
    {
      "cell_type": "markdown",
      "metadata": {},
      "source": [
        "#### Order dataframe"
      ]
    },
    {
      "cell_type": "code",
      "execution_count": null,
      "metadata": {},
      "outputs": [],
      "source": [
        "print(\"\\n\",orders_df.isna().sum())"
      ]
    },
    {
      "cell_type": "code",
      "execution_count": 18,
      "metadata": {},
      "outputs": [],
      "source": [
        "orders_df = orders_df.dropna(how=\"any\")"
      ]
    },
    {
      "cell_type": "code",
      "execution_count": null,
      "metadata": {},
      "outputs": [],
      "source": [
        "orders_df.isna().sum()"
      ]
    },
    {
      "cell_type": "code",
      "execution_count": 20,
      "metadata": {},
      "outputs": [],
      "source": [
        "# change to datetime type\n",
        "order_datetime = [\"order_purchase_timestamp\", \"order_approved_at\", \"order_delivered_carrier_date\", \"order_delivered_customer_date\", \"order_estimated_delivery_date\"]\n",
        "\n",
        "for column in order_datetime:\n",
        "    orders_df[column] = pd.to_datetime(orders_df[column])"
      ]
    },
    {
      "cell_type": "code",
      "execution_count": null,
      "metadata": {},
      "outputs": [],
      "source": [
        "orders_df.info()"
      ]
    },
    {
      "cell_type": "markdown",
      "metadata": {},
      "source": [
        "#### order items df"
      ]
    },
    {
      "cell_type": "code",
      "execution_count": 22,
      "metadata": {},
      "outputs": [],
      "source": [
        "# change to datetime type\n",
        "order_items_df[\"shipping_limit_date\"] = pd.to_datetime(order_items_df[\"shipping_limit_date\"])"
      ]
    },
    {
      "cell_type": "code",
      "execution_count": null,
      "metadata": {},
      "outputs": [],
      "source": [
        "order_items_df.info()"
      ]
    },
    {
      "cell_type": "markdown",
      "metadata": {
        "id": "Q_5ejIqckiSP"
      },
      "source": [
        "**Insight:**\n",
        "- Asumsikan bahwa geolocation_df berisi semua lokasi unik dalam kerangka data, jadi kita perlu menghapus data duplikat tersebut.\n",
        "- Dari proses penilaian, kita mengetahui bahwa ada beberapa kolom dalam data order_reviews yang berisi missing value. Jadi kita perlu mengisinya.\n",
        "- Dilakukan proses drop terhadap rows berisi missing value di orders_df sehingga dapat lebih mudah untuk mengkonversi type datanya"
      ]
    },
    {
      "cell_type": "markdown",
      "metadata": {
        "id": "gp-Y6wU38DC1"
      },
      "source": [
        "## Exploratory Data Analysis (EDA)"
      ]
    },
    {
      "cell_type": "markdown",
      "metadata": {},
      "source": [
        "- Apa saja kategori produk yang paling laku dan paling tidak laku?\n",
        "- Bagaimana distribusi pesanan di berbagai negara bagian (state)?\n",
        "- Bagaimana pengaruh durasi pengiriman terhadap peringkat dari pelanggan (score_review)?\n",
        "- Bagaimana pelanggan dapat disegmentasikan berdasarkan kebiasaan pembelian mereka? (RFM ANALYSIS)"
      ]
    },
    {
      "cell_type": "markdown",
      "metadata": {},
      "source": [
        "### Explore customers_df"
      ]
    },
    {
      "cell_type": "code",
      "execution_count": null,
      "metadata": {},
      "outputs": [],
      "source": [
        "customers_df.sample(5)"
      ]
    },
    {
      "cell_type": "code",
      "execution_count": null,
      "metadata": {
        "id": "e9CQCZjk8DC2"
      },
      "outputs": [],
      "source": [
        "customers_df.describe(include=\"all\")"
      ]
    },
    {
      "cell_type": "code",
      "execution_count": null,
      "metadata": {},
      "outputs": [],
      "source": [
        "customers_df.customer_id.is_unique"
      ]
    },
    {
      "cell_type": "code",
      "execution_count": null,
      "metadata": {},
      "outputs": [],
      "source": [
        "customers_df.groupby(by=\"customer_city\").customer_id.nunique().sort_values(ascending=False)"
      ]
    },
    {
      "cell_type": "code",
      "execution_count": null,
      "metadata": {},
      "outputs": [],
      "source": [
        "customers_df.groupby(by=\"customer_state\").customer_id.nunique().sort_values(ascending=False)"
      ]
    },
    {
      "cell_type": "markdown",
      "metadata": {},
      "source": [
        "### Explore geolocation_df"
      ]
    },
    {
      "cell_type": "code",
      "execution_count": null,
      "metadata": {},
      "outputs": [],
      "source": [
        "geolocation_df.sample(5)"
      ]
    },
    {
      "cell_type": "code",
      "execution_count": null,
      "metadata": {},
      "outputs": [],
      "source": [
        "geolocation_df.describe(include=\"all\")"
      ]
    },
    {
      "cell_type": "code",
      "execution_count": null,
      "metadata": {},
      "outputs": [],
      "source": [
        "geolocation_df.groupby(\"geolocation_state\").geolocation_city.nunique().sort_values(ascending=False)"
      ]
    },
    {
      "cell_type": "markdown",
      "metadata": {},
      "source": [
        "#### Explore order_items_df"
      ]
    },
    {
      "cell_type": "code",
      "execution_count": null,
      "metadata": {},
      "outputs": [],
      "source": [
        "order_items_df.sample(5)"
      ]
    },
    {
      "cell_type": "code",
      "execution_count": null,
      "metadata": {},
      "outputs": [],
      "source": [
        "order_items_df.describe(include=\"all\")"
      ]
    },
    {
      "cell_type": "code",
      "execution_count": null,
      "metadata": {},
      "outputs": [],
      "source": [
        "order_items_df.groupby(by=\"order_id\").agg({\n",
        "    \"price\": [\"sum\"]\n",
        "})"
      ]
    },
    {
      "cell_type": "markdown",
      "metadata": {},
      "source": [
        "#### Explore order_payments_df"
      ]
    },
    {
      "cell_type": "code",
      "execution_count": null,
      "metadata": {},
      "outputs": [],
      "source": [
        "order_payments_df.sample(5)"
      ]
    },
    {
      "cell_type": "code",
      "execution_count": null,
      "metadata": {},
      "outputs": [],
      "source": [
        "order_payments_df.describe(include=\"all\")"
      ]
    },
    {
      "cell_type": "code",
      "execution_count": null,
      "metadata": {},
      "outputs": [],
      "source": [
        "order_payments_df.groupby(by=\"payment_type\").agg({\n",
        "    \"payment_value\": [\"max\", \"min\", \"mean\", \"sum\"]\n",
        "})"
      ]
    },
    {
      "cell_type": "markdown",
      "metadata": {},
      "source": [
        "#### Explore order_reviews_df"
      ]
    },
    {
      "cell_type": "code",
      "execution_count": null,
      "metadata": {},
      "outputs": [],
      "source": [
        "order_reviews_df.sample(5)"
      ]
    },
    {
      "cell_type": "code",
      "execution_count": null,
      "metadata": {},
      "outputs": [],
      "source": [
        "order_reviews_df.describe(include=\"all\")"
      ]
    },
    {
      "cell_type": "code",
      "execution_count": null,
      "metadata": {},
      "outputs": [],
      "source": [
        "order_reviews_df.groupby(\"review_score\").agg({\n",
        "    \"order_id\" : \"nunique\"\n",
        "})"
      ]
    },
    {
      "cell_type": "markdown",
      "metadata": {},
      "source": [
        "#### Explore orders_df"
      ]
    },
    {
      "cell_type": "code",
      "execution_count": null,
      "metadata": {},
      "outputs": [],
      "source": [
        "orders_df.sample(5)"
      ]
    },
    {
      "cell_type": "code",
      "execution_count": null,
      "metadata": {},
      "outputs": [],
      "source": [
        "delivery_time = orders_df[\"order_delivered_customer_date\"] - orders_df[\"order_delivered_carrier_date\"]\n",
        "delivery_time = delivery_time.apply(lambda x: x.total_seconds())\n",
        "orders_df[\"delivery_time\"] = round(delivery_time/86400)\n",
        "orders_df"
      ]
    },
    {
      "cell_type": "markdown",
      "metadata": {},
      "source": [
        "#### Explore sellers_df"
      ]
    },
    {
      "cell_type": "code",
      "execution_count": null,
      "metadata": {},
      "outputs": [],
      "source": [
        "sellers_df.sample(5)"
      ]
    },
    {
      "cell_type": "code",
      "execution_count": null,
      "metadata": {},
      "outputs": [],
      "source": [
        "sellers_df.describe(include=\"all\")"
      ]
    },
    {
      "cell_type": "code",
      "execution_count": null,
      "metadata": {},
      "outputs": [],
      "source": [
        "sellers_df[\"seller_id\"].is_unique"
      ]
    },
    {
      "cell_type": "code",
      "execution_count": null,
      "metadata": {},
      "outputs": [],
      "source": [
        "sellers_df.groupby(\"seller_city\").seller_id.nunique().sort_values(ascending=False)"
      ]
    },
    {
      "cell_type": "markdown",
      "metadata": {},
      "source": [
        "### Explore customers_df and orders_df"
      ]
    },
    {
      "cell_type": "code",
      "execution_count": null,
      "metadata": {},
      "outputs": [],
      "source": [
        "cust_orders_df = pd.merge(\n",
        "    left=customers_df,\n",
        "    right=orders_df,\n",
        "    how=\"left\",\n",
        "    left_on=\"customer_id\",\n",
        "    right_on=\"customer_id\"\n",
        ")\n",
        "cust_orders_df.head()"
      ]
    },
    {
      "cell_type": "code",
      "execution_count": null,
      "metadata": {},
      "outputs": [],
      "source": [
        "cust_orders_df.groupby(by=\"customer_state\").order_id.nunique().sort_values(ascending=False).head(10)"
      ]
    },
    {
      "cell_type": "markdown",
      "metadata": {},
      "source": [
        "#### Merge cust_orders_df and order_reviews_df"
      ]
    },
    {
      "cell_type": "code",
      "execution_count": null,
      "metadata": {},
      "outputs": [],
      "source": [
        "order_cus_review_df = pd.merge(\n",
        "    left=cust_orders_df,\n",
        "    right=order_reviews_df,\n",
        "    how=\"left\",\n",
        "    left_on=\"order_id\",\n",
        "    right_on=\"order_id\"\n",
        ")\n",
        "order_cus_review_df.head()"
      ]
    },
    {
      "cell_type": "markdown",
      "metadata": {},
      "source": [
        "### Merge order_cus_review_df and order_payments_df"
      ]
    },
    {
      "cell_type": "code",
      "execution_count": null,
      "metadata": {},
      "outputs": [],
      "source": [
        "order_detail_df = pd.merge(\n",
        "    left=order_cus_review_df,\n",
        "    right=order_payments_df,\n",
        "    how=\"left\",\n",
        "    left_on=\"order_id\",\n",
        "    right_on=\"order_id\"\n",
        ")\n",
        "order_detail_df.head()"
      ]
    },
    {
      "cell_type": "code",
      "execution_count": null,
      "metadata": {},
      "outputs": [],
      "source": [
        "order_detail_df.groupby(\"review_score\").agg({\n",
        "    \"delivery_time\": [\"mean\"]\n",
        "})"
      ]
    },
    {
      "cell_type": "code",
      "execution_count": null,
      "metadata": {},
      "outputs": [],
      "source": [
        "order_detail_df.groupby(by=\"payment_type\").order_id.nunique().sort_values(ascending=False).head(10)"
      ]
    },
    {
      "cell_type": "markdown",
      "metadata": {},
      "source": [
        "#### Merge order_detail_df and order_items_df"
      ]
    },
    {
      "cell_type": "code",
      "execution_count": null,
      "metadata": {},
      "outputs": [],
      "source": [
        "order_items_detail_df = pd.merge(\n",
        "    left=order_detail_df,\n",
        "    right=order_items_df,\n",
        "    how=\"left\",\n",
        "    left_on=\"order_id\",\n",
        "    right_on=\"order_id\"\n",
        ")\n",
        "order_items_detail_df.sample(5)"
      ]
    },
    {
      "cell_type": "markdown",
      "metadata": {},
      "source": [
        "#### Merge order_detail_df and order_items_df ``(all_df)``"
      ]
    },
    {
      "cell_type": "code",
      "execution_count": null,
      "metadata": {},
      "outputs": [],
      "source": [
        "all_df = pd.merge(\n",
        "    left=order_items_detail_df,\n",
        "    right=products_df,\n",
        "    how=\"left\",\n",
        "    left_on=\"product_id\",\n",
        "    right_on=\"product_id\"\n",
        ")\n",
        "all_df.head()"
      ]
    },
    {
      "cell_type": "code",
      "execution_count": null,
      "metadata": {},
      "outputs": [],
      "source": [
        "all_df.groupby(by=\"product_category_name\").agg({\n",
        "    \"price\" : [\"sum\"]\n",
        "})"
      ]
    },
    {
      "cell_type": "code",
      "execution_count": null,
      "metadata": {},
      "outputs": [],
      "source": [
        "all_df.info()"
      ]
    },
    {
      "cell_type": "code",
      "execution_count": 57,
      "metadata": {},
      "outputs": [],
      "source": [
        "all_df = all_df.dropna(how=\"any\")\n",
        "all_df = all_df.drop_duplicates()"
      ]
    },
    {
      "cell_type": "code",
      "execution_count": 58,
      "metadata": {},
      "outputs": [],
      "source": [
        "# Construct the path to the Dashboard folder\n",
        "dashboard_folder = 'Dashboard'\n",
        "file_name = 'all_data.csv'\n",
        "file_path = os.path.join(dashboard_folder, file_name)\n",
        "\n",
        "# Export the DataFrame to CSV\n",
        "all_df.to_csv(file_path, index=False)"
      ]
    },
    {
      "cell_type": "markdown",
      "metadata": {
        "id": "th_Lzl2Fkj9O"
      },
      "source": [
        "**Insight:**\n",
        "- Setelah dilakukan proses penggabungan(merging) dari dataframe keseluruhan, didapat beberapa missing value dan duplicated value yang perlu dilakukan drop (penghapusan) agar tidak mengganggu proses visualisasi data\n",
        "- Ditambahkan juga proses export ke csv agar data dapat digunakan pada dashboard"
      ]
    },
    {
      "cell_type": "markdown",
      "metadata": {
        "id": "zsyZjqak8DC2"
      },
      "source": [
        "## Visualization & Explanatory Analysis"
      ]
    },
    {
      "cell_type": "markdown",
      "metadata": {
        "id": "HZxOiQ6n8DC2"
      },
      "source": [
        "### Pertanyaan 1: Apa saja kategori produk yang paling laku dan paling tidak laku?\n"
      ]
    },
    {
      "cell_type": "code",
      "execution_count": null,
      "metadata": {
        "id": "1swJUdAD8DC2"
      },
      "outputs": [],
      "source": [
        "sum_order_products_df = all_df.groupby(\"product_category_name\").price.sum().sort_values(ascending=False).reset_index()\n",
        "sum_order_products_df.head(15)"
      ]
    },
    {
      "cell_type": "code",
      "execution_count": null,
      "metadata": {},
      "outputs": [],
      "source": [
        "fig, ax = plt.subplots(nrows=1, ncols=2, figsize=(24, 6))\n",
        " \n",
        "colors = [\"#72BCD4\", \"#D3D3D3\", \"#D3D3D3\", \"#D3D3D3\", \"#D3D3D3\"]\n",
        " \n",
        "sns.barplot(x=\"price\", y=\"product_category_name\", data=sum_order_products_df.head(5), palette=colors, ax=ax[0])\n",
        "ax[0].set_ylabel(None)\n",
        "ax[0].set_xlabel(None)\n",
        "ax[0].set_title(\"Kategori produk yang paling laku\", loc=\"center\", fontsize=15)\n",
        "ax[0].tick_params(axis ='y', labelsize=12)\n",
        " \n",
        "sns.barplot(x=\"price\", y=\"product_category_name\", data=sum_order_products_df.sort_values(by=\"price\", ascending=True).head(5), palette=colors, ax=ax[1])\n",
        "ax[1].set_ylabel(None)\n",
        "ax[1].set_xlabel(None)\n",
        "ax[1].invert_xaxis()\n",
        "ax[1].yaxis.set_label_position(\"right\")\n",
        "ax[1].yaxis.tick_right()\n",
        "ax[1].set_title(\"Kategori produk yang paling tidak laku\", loc=\"center\", fontsize=15)\n",
        "ax[1].tick_params(axis='y', labelsize=12)\n",
        " \n",
        "plt.suptitle(\"Best and Worst Performing Product Category by Total Revenue\", fontsize=20)"
      ]
    },
    {
      "cell_type": "markdown",
      "metadata": {
        "id": "DgHI7CiU8DC2"
      },
      "source": [
        "### Pertanyaan 2: Bagaimana distribusi pesanan di berbagai negara bagian (state)?"
      ]
    },
    {
      "cell_type": "code",
      "execution_count": null,
      "metadata": {},
      "outputs": [],
      "source": [
        "bystate_df = all_df.groupby(by=\"customer_state\").order_id.nunique().sort_values(ascending=False).reset_index()\n",
        "bystate_df"
      ]
    },
    {
      "cell_type": "code",
      "execution_count": null,
      "metadata": {},
      "outputs": [],
      "source": [
        "bystate_df = all_df.groupby(by=\"customer_state\").order_id.nunique().sort_values(ascending=False).reset_index()\n",
        "bystate_df.rename(columns={\n",
        "    \"order_id\" : \"amount_orders\"\n",
        "}, inplace=True)\n",
        "bystate_df"
      ]
    },
    {
      "cell_type": "code",
      "execution_count": null,
      "metadata": {
        "id": "Go0lCsvO8DC2"
      },
      "outputs": [],
      "source": [
        "fig, ax = plt.subplots(nrows=1, figsize=(12, 10))\n",
        "\n",
        "sns.barplot(\n",
        "    y=\"amount_orders\", \n",
        "    x=\"customer_state\",\n",
        "    data=bystate_df.sort_values(by=\"amount_orders\", ascending=False)\n",
        ")\n",
        "\n",
        "plt.title(\"Jumlah pesanan berdasarkan negara bagian (state)\", loc=\"center\", fontsize=15)\n",
        "plt.ylabel(\"Jumlah pesanan\")\n",
        "plt.xlabel(\"Negara bagian (state)\")"
      ]
    },
    {
      "cell_type": "markdown",
      "metadata": {},
      "source": [
        "## PERTANYAAN 3 : Bagaimana pengaruh dari delivery time terhadap peringkat dari pelanggan (score_review)?"
      ]
    },
    {
      "cell_type": "code",
      "execution_count": null,
      "metadata": {},
      "outputs": [],
      "source": [
        "range_revscor_df = all_df.groupby(\"review_score\").agg({\n",
        "    \"delivery_time\": [\"mean\"]\n",
        "})\n",
        "fig, ax = plt.subplots(nrows=1, figsize=(12, 6))\n",
        "plt.plot(range_revscor_df.index, range_revscor_df.values)\n",
        "plt.gca().invert_xaxis()\n",
        "plt.title(\"Average Delivery Time by Review Score\")\n",
        "plt.xlabel(\"Review Score (Reverse)\")\n",
        "plt.ylabel(\"Average Delivery Time (days)\")\n",
        "\n",
        "# Show the plot\n",
        "plt.show()"
      ]
    },
    {
      "cell_type": "markdown",
      "metadata": {
        "id": "9y4VUsmcYNZ5"
      },
      "source": [
        "## Analisis Lanjutan (RFM ANALYSIS)\n",
        "- Recency: parameter yang digunakan untuk melihat kapan terakhir seorang pelanggan melakukan transaksi.\n",
        "- Frequency: parameter ini digunakan untuk mengidentifikasi seberapa sering seorang pelanggan melakukan transaksi.\n",
        "- Monetary: parameter terakhir ini digunakan untuk mengidentifikasi seberapa besar revenue yang berasal dari pelanggan tersebut."
      ]
    },
    {
      "cell_type": "markdown",
      "metadata": {},
      "source": [
        "## Pertanyaan 4 - 6:\n",
        "- Kapan terakhir pelanggan melakukan transaksi?\n",
        "- Seberapa sering seorang pelanggan melakukan pembelian dalam beberapa bulan terakhir?\n",
        "- Berapa banyak uang yang dihabiskan pelanggan dalam beberapa bulan terakhir? "
      ]
    },
    {
      "cell_type": "code",
      "execution_count": null,
      "metadata": {},
      "outputs": [],
      "source": [
        "rfm_df = all_df.groupby(by=\"customer_id\", as_index=False).agg({\n",
        "    \"order_purchase_timestamp\": \"max\", # mengambil tanggal order terakhir\n",
        "    \"order_id\": \"nunique\", # menghitung jumlah order\n",
        "    \"price\": \"sum\" # menghitung jumlah revenue yang dihasilkan\n",
        "})\n",
        "\n",
        "# menamai ulang kolum\n",
        "rfm_df.columns = [\"customer_id\", \"max_order_timestamp\", \"frequency\", \"monetary\"]\n",
        "\n",
        "# menghitung kapan terakhir pelanggan melakukan transaksi (hari)\n",
        "rfm_df[\"max_order_timestamp\"] = rfm_df[\"max_order_timestamp\"].dt.date #dari datetime to date(just tanggal)\n",
        "recent_date = all_df[\"order_purchase_timestamp\"].dt.date.max() # mengambil tanggal maksimum dari all_df\n",
        "rfm_df[\"recency\"] = rfm_df[\"max_order_timestamp\"].apply(lambda x: (recent_date - x).days) # max order timestamp tu terakhir masing\" pelanggan melakukan transaksi, seangkan recent_date itu terakhir transaksi\n",
        "\n",
        "# rfm_df.drop(\"max_order_timestamp\", axis=1, inplace=True)\n",
        "rfm_df.head()"
      ]
    },
    {
      "cell_type": "code",
      "execution_count": null,
      "metadata": {},
      "outputs": [],
      "source": [
        "fig, ax = plt.subplots(nrows=1, ncols=3, figsize=(30, 6))\n",
        " \n",
        "colors = [\"#72BCD4\", \"#72BCD4\", \"#72BCD4\", \"#72BCD4\", \"#72BCD4\"]\n",
        " \n",
        "sns.barplot(y=\"recency\", x=\"customer_id\", data=rfm_df.sort_values(by=\"recency\", ascending=True).head(), palette=colors, ax=ax[0])\n",
        "ax[0].set_ylabel(None)\n",
        "ax[0].set_xlabel(None)\n",
        "ax[0].set_title(\"By Recency (days)\", loc=\"center\", fontsize=18)\n",
        "ax[0].tick_params(axis ='x', labelsize=15, rotation=75)\n",
        " \n",
        "sns.barplot(y=\"frequency\", x=\"customer_id\", data=rfm_df.sort_values(by=\"frequency\", ascending=False).head(), palette=colors, ax=ax[1])\n",
        "ax[1].set_ylabel(None)\n",
        "ax[1].set_xlabel(None)\n",
        "ax[1].set_title(\"By Frequency\", loc=\"center\", fontsize=18)\n",
        "ax[1].tick_params(axis ='x', labelsize=15, rotation=75)\n",
        " \n",
        "sns.barplot(y=\"monetary\", x=\"customer_id\", data=rfm_df.sort_values(by=\"monetary\", ascending=False).head(), palette=colors, ax=ax[2])\n",
        "ax[2].set_ylabel(None)\n",
        "ax[2].set_xlabel(None)\n",
        "ax[2].set_title(\"By Monetary\", loc=\"center\", fontsize=18)\n",
        "ax[2].tick_params(axis ='x', labelsize=15, rotation=75)\n",
        " \n",
        "plt.suptitle(\"Best Customer Based on RFM Parameters (customer_id)\", fontsize=20)\n",
        "plt.show()"
      ]
    },
    {
      "cell_type": "markdown",
      "metadata": {},
      "source": [
        "## Pertanyaan 7 : Bagaimana pelanggan dapat disegmentasikan berdasarkan kebiasaan pembelian mereka? (RFM ANALYSIS)"
      ]
    },
    {
      "cell_type": "code",
      "execution_count": null,
      "metadata": {},
      "outputs": [],
      "source": [
        "\n",
        "rfm_df[\"recency_score\"] = pd.qcut(\n",
        "    rfm_df['recency'], \n",
        "    q=5,  # This is the number of quantiles (bins)\n",
        "    labels=[5, 4, 3, 2, 1],  # These are your bin labels, must match the number of bins\n",
        "    duplicates='drop'  # Handle duplicate edges if necessary\n",
        ")\n",
        "# Calculate frequency score based on rank quantiles, assigning labels from 1 to 5 (1 being lowest frequency)\n",
        "rfm_df[\"frequency_score\"] = pd.qcut(rfm_df[\"frequency\"].rank(method=\"first\"), 5, labels=[1, 2, 3, 4, 5])\n",
        "\n",
        "rfm_df['segment'] = rfm_df['recency_score'].astype(str) + rfm_df['frequency_score'].astype(str)\n",
        "rfm_df.drop(\"max_order_timestamp\", axis=1, inplace=True)\n",
        "rfm_df.head()"
      ]
    },
    {
      "cell_type": "code",
      "execution_count": 68,
      "metadata": {},
      "outputs": [],
      "source": [
        "# Mapping of segments to their corresponding customer segments\n",
        "seg_map = {\n",
        "r'[1-2][1-2]': 'hibernating',\n",
        "r'[1-2][3-4]': 'at_risk',\n",
        "r'[1-2]5': 'cant_loose',\n",
        "r'3[1-2]': 'about_to_sleep',\n",
        "r'33': 'need_attention',\n",
        "r'[3-4][4-5]': 'loyal_customers',\n",
        "r'41': 'promising',\n",
        "r'51': 'new_customers',\n",
        "r'[4-5][2-3]': 'potential_loyalists',\n",
        "r'5[4-5]': 'champions'\n",
        "    }"
      ]
    },
    {
      "cell_type": "code",
      "execution_count": null,
      "metadata": {},
      "outputs": [],
      "source": [
        "# Map RFM segments to corresponding customer segments using predefined seg_map\n",
        "rfm_df['segment'] = rfm_df['segment'].replace(seg_map, regex=True)\n",
        "\n",
        "# Keep only relevant columns and return the resulting dataframe\n",
        "rfm_df = rfm_df[[\"recency\", \"frequency\", \"monetary\", \"segment\"]]\n",
        "\n",
        "rfm_df.index = rfm_df.index.astype(int)  # Convert index to integer\n",
        "rfm_df.head()"
      ]
    },
    {
      "cell_type": "code",
      "execution_count": 70,
      "metadata": {},
      "outputs": [],
      "source": [
        "rfm_df = rfm_df[[\"segment\", \"recency\", \"frequency\", \"monetary\"]]\n"
      ]
    },
    {
      "cell_type": "code",
      "execution_count": null,
      "metadata": {},
      "outputs": [],
      "source": [
        "mean_recency = rfm_df.groupby(\"segment\")[\"recency\"].mean().reset_index()\n",
        "mean_frequency = rfm_df.groupby(\"segment\")[\"frequency\"].mean().reset_index()\n",
        "mean_monetary = rfm_df.groupby(\"segment\")[\"monetary\"].mean().reset_index()\n",
        "\n",
        "\n",
        "fig, ax = plt.subplots(nrows=1, ncols=3, figsize=(30, 6))\n",
        " \n",
        "colors = [\"#72BCD4\", \"#D3D3D3\", \"#D3D3D3\", \"#D3D3D3\", \"#D3D3D3\"]\n",
        " \n",
        "sns.barplot(y=\"recency\", x=\"segment\", data=mean_recency.sort_values(by=\"recency\", ascending=False), ax=ax[0])\n",
        "ax[0].set_ylabel(\"average of not shopping (days)\")\n",
        "ax[0].set_xlabel(\"segments\")\n",
        "ax[0].set_title(\"Recency\", loc=\"center\", fontsize=15)\n",
        "ax[0].tick_params(axis ='x', labelsize=12, rotation=45)\n",
        " \n",
        "sns.barplot(y=\"frequency\", x=\"segment\", data=mean_frequency.sort_values(by=\"frequency\", ascending=False), ax=ax[1])\n",
        "ax[1].set_ylabel(\"times of shopped\")\n",
        "ax[1].set_xlabel(\"segments\")\n",
        "ax[1].set_title(\"Frequency\", loc=\"center\", fontsize=15)\n",
        "ax[1].tick_params(axis ='x', labelsize=12, rotation=45)\n",
        "\n",
        "sns.barplot(y=\"monetary\", x=\"segment\", data=mean_monetary.sort_values(by=\"monetary\", ascending=False), ax=ax[2])\n",
        "ax[2].set_ylabel(\"average of revenue\")\n",
        "ax[2].set_xlabel(\"segments\")\n",
        "ax[2].set_title(\"Monetary\", loc=\"center\", fontsize=15)\n",
        "ax[2].tick_params(axis ='x', labelsize=12, rotation=45)\n",
        " \n",
        " \n",
        "plt.suptitle(\"RFM ANALYSIS\", fontsize=20)"
      ]
    },
    {
      "cell_type": "code",
      "execution_count": null,
      "metadata": {},
      "outputs": [],
      "source": [
        "rfm_detail_df = rfm_df.groupby(\"segment\").count().reset_index()\n",
        "fig, ax = plt.subplots(nrows=1, figsize=(12, 10))\n",
        "\n",
        "sns.barplot(\n",
        "    y=\"recency\", \n",
        "    x=\"segment\",\n",
        "    data=rfm_detail_df.sort_values(by=\"recency\", ascending=False)\n",
        ")\n",
        "plt.ylabel(\"amount of customers\")\n",
        "plt.xlabel(\"Segments\")\n",
        "plt.xticks(rotation=45)\n",
        "plt.suptitle(\"Final Result RFM Analysis\", fontsize=20)\n",
        " "
      ]
    },
    {
      "cell_type": "markdown",
      "metadata": {
        "id": "_WeHlCeX8DC2"
      },
      "source": [
        "## Conclusion"
      ]
    },
    {
      "cell_type": "markdown",
      "metadata": {
        "id": "ZTcyR48Y8DC2"
      },
      "source": [
        "**Visualisasi Data dan Explanatory**\n",
        "\n",
        "- Berdasarkan dari tingkat kelarisan kategori produk. Kategori produk beleza_saude merupakan kategori produk terlaris. Sedangkan kategori produk seguros_e_servicos merupakan kategori produk yang paling tidak laris.\n",
        "- Berdasarkan visualisasi data untuk tingkat pesanan tertinggi ada pada negara bagian (state) dengan kode SP, lalu disusul oleh RJ, MG dan seterusnya.\n",
        "- Berdasarkan hasil visualisasi, didapatkan bahwa durasi pengiriman produk hingga ke tangan pelanggan merupakan salah satu hal yang berpengaruh terhadap tingkat peringkat (skor review) yang diberikan oleh pelanggan.\n",
        "\n",
        "**Analisis Lanjutan**\n",
        "\n",
        "- Berdasarkan visualisasi Best Customer Based on RFM Parameters (customer_id) didapatkan customer_id yang waktu pembeliannya terkini(recency), customer_id dengan jumlah pemesanan terbanyak (frequency), serta customer_id dengan jumlah pembelian tertinggi(monetary)\n",
        "- Berdasarkan visualisasi RFM ANALYSIS recency didapatkan bahwa cukup banyak pelanggan yang sudah lama tidak melakukan pembelian Kembali. Selanjutnya dari segi Frequency, didapatkan bahwa keseluruhan segmentasi pelanggan rata-rata hanya melakukan pembelian sebanyak 1 kali. Terakhir untuk Monetary. Terdapat pelanggan dalam kategori at_risk yang perlu diperhatikan karena pelanggan tersebut memberikan pendapatan yang cukup tinggi kepada perusahaan.\n",
        "- Berdasarkan visualisasi Final Result RFM Analysis didapatkan detail jumlah pelanggan yang berada dalam segmentasi tertentu. Didapatkan juga jumlah cukup banyak pelanggan dalam kategori at_risk dan hibernating. Sehingga perlu dilakukan langkah lebih lanjut."
      ]
    },
    {
      "cell_type": "code",
      "execution_count": null,
      "metadata": {},
      "outputs": [],
      "source": []
    }
  ],
  "metadata": {
    "colab": {
      "provenance": [],
      "toc_visible": true
    },
    "kernelspec": {
      "display_name": "Python 3",
      "language": "python",
      "name": "python3"
    },
    "language_info": {
      "codemirror_mode": {
        "name": "ipython",
        "version": 3
      },
      "file_extension": ".py",
      "mimetype": "text/x-python",
      "name": "python",
      "nbconvert_exporter": "python",
      "pygments_lexer": "ipython3",
      "version": "3.12.6"
    },
    "orig_nbformat": 4,
    "vscode": {
      "interpreter": {
        "hash": "972b3bf27e332e87b5379f2791f6ef9dfc79c71018c370b0d7423235e20fe4d7"
      }
    }
  },
  "nbformat": 4,
  "nbformat_minor": 0
}
